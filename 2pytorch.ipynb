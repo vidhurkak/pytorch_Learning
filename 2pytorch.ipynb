{
 "cells": [
  {
   "cell_type": "markdown",
   "id": "d98c87c0-69d6-4d1b-b798-4d286600fb42",
   "metadata": {},
   "source": [
    "# Basic model"
   ]
  },
  {
   "cell_type": "code",
   "execution_count": 36,
   "id": "a8812dab-c550-4eb7-9699-3cb6a793630e",
   "metadata": {},
   "outputs": [],
   "source": [
    "import torch\n",
    "from torch import nn\n",
    "import matplotlib.pyplot as plt\n",
    "from sklearn.model_selection import train_test_split"
   ]
  },
  {
   "cell_type": "code",
   "execution_count": 37,
   "id": "e68438d2-c242-4821-b5b7-e6b73cb5b6b1",
   "metadata": {},
   "outputs": [
    {
     "data": {
      "text/plain": [
       "(tensor([0.0000, 0.0200, 0.0400, 0.0600, 0.0800, 0.1000, 0.1200, 0.1400, 0.1600,\n",
       "         0.1800]),\n",
       " tensor([0.3000, 0.3140, 0.3280, 0.3420, 0.3560, 0.3700, 0.3840, 0.3980, 0.4120,\n",
       "         0.4260]),\n",
       " 50,\n",
       " 50)"
      ]
     },
     "execution_count": 37,
     "metadata": {},
     "output_type": "execute_result"
    }
   ],
   "source": [
    "#create known parameters \n",
    "\n",
    "weights =0.7\n",
    "bias = 0.3 \n",
    "\n",
    "start = 0 \n",
    "end = 1\n",
    "step = 0.02\n",
    "\n",
    "X = torch.arange(start,end,step)\n",
    "y = weights * X + bias\n",
    "\n",
    "\n",
    "X[:10],y[:10], len(X),len(y)"
   ]
  },
  {
   "cell_type": "code",
   "execution_count": 38,
   "id": "c9938ef2-377e-4765-957d-cfc01fe4508f",
   "metadata": {},
   "outputs": [],
   "source": [
    "X_train,X_test,y_train,y_test = train_test_split(X,y,test_size=0.2, random_state=41)\n",
    "X_train = torch.FloatTensor(X_train)\n",
    "X_test = torch.FloatTensor(X_test)\n",
    "y_train = torch.FloatTensor(y_train)\n",
    "y_test = torch.FloatTensor(y_test)"
   ]
  },
  {
   "cell_type": "code",
   "execution_count": 39,
   "id": "8d7c495b-ca50-4530-b815-6e71037300f9",
   "metadata": {},
   "outputs": [],
   "source": [
    "# print(f'y_train    :{y_train}'),X_train"
   ]
  },
  {
   "cell_type": "code",
   "execution_count": 40,
   "id": "9b906288-64ff-4bb5-aa4e-944d4ff986db",
   "metadata": {},
   "outputs": [],
   "source": [
    "def plot_predictions(train_data = X_train,\n",
    "                    train_label = y_train,\n",
    "                    test_data = X_test, \n",
    "                    test_label = y_test,\n",
    "                    predictions = None):\n",
    "## plot data  s is size\n",
    "    plt.scatter(train_data,train_label, c='b',s=10, label = 'Training data') \n",
    "\n",
    "    plt.scatter(test_data,test_label, c ='green',s = 10, label= 'Testing data') \n",
    "    \n",
    "    #prdiction           \n",
    "    \n",
    "    if predictions is not None:\n",
    "        plt.scatter(test_data,predictions,c ='r', s = 10, label='Predictions')\n",
    "        \n",
    "    #show legends \n",
    "    plt.legend(prop={'size':10})"
   ]
  },
  {
   "cell_type": "code",
   "execution_count": 41,
   "id": "fb790970-3159-48e5-ac8d-f191c83a9d39",
   "metadata": {},
   "outputs": [
    {
     "data": {
      "image/png": "[encoded data removed]",
      "text/plain": [
       "<Figure size 432x288 with 1 Axes>"
      ]
     },
     "metadata": {
      "needs_background": "light"
     },
     "output_type": "display_data"
    }
   ],
   "source": [
    "plot_predictions()"
   ]
  },
  {
   "cell_type": "markdown",
   "id": "c1780d45-caee-4d21-b287-f6bf25db2db4",
   "metadata": {
    "editable": true,
    "slideshow": {
     "slide_type": ""
    },
    "tags": []
   },
   "source": [
    "# Build Model "
   ]
  },
  {
   "cell_type": "code",
   "execution_count": 42,
   "id": "d66b2823-1ceb-4a99-9ad0-584dd483b2d1",
   "metadata": {
    "editable": true,
    "slideshow": {
     "slide_type": ""
    },
    "tags": []
   },
   "outputs": [],
   "source": [
    "class LinearRegressionModel(nn.Module):\n",
    "    def __init__(self):\n",
    "        super().__init__()\n",
    "        self.weights = nn.Parameter(torch.randn(1,requires_grad=True,dtype= torch.float)) \n",
    "        self.bias = nn.Parameter(torch.randn(1,requires_grad = True,dtype=torch.float))\n",
    "\n",
    "        # forward method to define the computation in the model \n",
    "    def forward(self, x: torch.Tensor) -> torch.Tensor: \n",
    "        return self.weights * x + self.bias  # linear regression formula\n"
   ]
  },
  {
   "cell_type": "markdown",
   "id": "591aa431-f5e1-44fd-8d8f-18eb5e2edfbc",
   "metadata": {},
   "source": [
    " y = w * x + b \n",
    " i is a tensor with the value x,y,b. we can compute derivative of y w.r.t the tensor that have required_grad set to True. It is called autograd\n",
    " "
   ]
  },
  {
   "cell_type": "code",
   "execution_count": 43,
   "id": "c7f2ee6e-55b6-4b20-8c01-fe9c914fe91f",
   "metadata": {},
   "outputs": [
    {
     "data": {
      "text/plain": [
       "LinearRegressionModel()"
      ]
     },
     "execution_count": 43,
     "metadata": {},
     "output_type": "execute_result"
    }
   ],
   "source": [
    " \n",
    "torch.manual_seed(42)\n",
    "model_0= LinearRegressionModel()\n",
    "model_0\n",
    "#list(model_0.parameters())\n",
    "# model_0.state_dict()"
   ]
  },
  {
   "cell_type": "markdown",
   "id": "ef173f53-8714-41cb-a30b-3944c610a156",
   "metadata": {},
   "source": [
    "## Prediction"
   ]
  },
  {
   "cell_type": "code",
   "execution_count": 44,
   "id": "5206563e-0e85-4b76-8b20-6626d822aa15",
   "metadata": {
    "editable": true,
    "slideshow": {
     "slide_type": ""
    },
    "tags": []
   },
   "outputs": [],
   "source": [
    "# making prediction using torch.inference_mode()\n",
    "#with torch.inference_mode(): # or we can use torch.no_grad()\n",
    "with torch.inference_mode():\n",
    "    y_preds = model_0(X_test)"
   ]
  },
  {
   "cell_type": "code",
   "execution_count": 45,
   "id": "5ffb28ab-555c-4975-92c3-c5deac00f56e",
   "metadata": {},
   "outputs": [
    {
     "data": {
      "image/png": "[encoded data removed]",
      "text/plain": [
       "<Figure size 432x288 with 1 Axes>"
      ]
     },
     "metadata": {
      "needs_background": "light"
     },
     "output_type": "display_data"
    }
   ],
   "source": [
    "plot_predictions(predictions=y_preds) "
   ]
  },
  {
   "cell_type": "markdown",
   "id": "152b778f-dfef-4f5c-a10d-563d72cdd153",
   "metadata": {},
   "source": [
    "## Loss function and optimizer"
   ]
  },
  {
   "cell_type": "code",
   "execution_count": 46,
   "id": "3527714f-f381-4ba4-b189-809b19f034f7",
   "metadata": {},
   "outputs": [],
   "source": [
    "## to measure how wrong outputs  are we will use loss function\n",
    "# we will use optimizer to adjust parameter\n",
    "\n",
    "# SETUP LOSS FUNCTION \n",
    "loss_fn = nn.L1Loss()\n",
    "\n",
    "#SETUP OPTIMIZER(SGD)\n",
    "# learning rate(lr) is a hyperparameter that defines how big or small\n",
    "#     optimizer changes the poarameter\n",
    "\n",
    "optimizer = torch.optim.SGD(params=model_0.parameters(),lr=0.01)\n"
   ]
  },
  {
   "cell_type": "markdown",
   "id": "19fb426e-cdda-4e6e-9bf9-257889b7e06f",
   "metadata": {},
   "source": [
    "## Building a training loop (and a testing loop) in PyTorch\n"
   ]
  },
  {
   "cell_type": "markdown",
   "id": "88b2f1d1-6aa5-405a-9b75-0aa55797e8dd",
   "metadata": {},
   "source": [
    "A couple of things we need in a training loop:\n",
    "\n",
    "\f",
    "\n",
    "\f",
    "\n",
    "\f",
    "\n",
    "\f",
    "\n",
    "0. Loop through the data\n",
    "\n",
    "\f",
    "\n",
    "1. Forward pass (his involves data moving through our models  forward()   functions) to make  predictions on data- also called foward propagation\n",
    "\n",
    "2. calculate the loss (compare forward pass pretictions to ground truth      label)\n",
    "\n",
    "3. Optimizer zero grad\n",
    "\n",
    "4. Loss backward-move backwards through the network to calculate the gradients of each of the paremeters of our model with respect to\n",
    "the loss (backpropagation)\n",
    "\n",
    "5. Optimizer step - use the optimizer to adjust our model's parameters to try and improve the loss (gradient descent)\n",
    "\f",
    "\n"
   ]
  },
  {
   "cell_type": "code",
   "execution_count": 60,
   "id": "78535772-7a53-4814-bd6e-5ad1e41dec14",
   "metadata": {},
   "outputs": [
    {
     "name": "stdout",
     "output_type": "stream",
     "text": [
      "Loss:0.011874581687152386\n",
      "Loss:0.0114211430773139\n",
      "Loss:0.010967711918056011\n",
      "Loss:0.010515611618757248\n",
      "Loss:0.010065347887575626\n",
      "Loss:0.00961191114038229\n",
      "Loss:0.009158475324511528\n",
      "Loss:0.00870504043996334\n",
      "Loss:0.008251601830124855\n",
      "Loss:0.007798162754625082\n",
      "Loss:0.007344729267060757\n",
      "Loss:0.00689537962898612\n",
      "Loss:0.006442372687160969\n",
      "Loss:0.005988930352032185\n",
      "Loss:0.005535495467483997\n",
      "Loss:0.005082058720290661\n",
      "Loss:0.004628624767065048\n",
      "Loss:0.004175181500613689\n",
      "Loss:0.003724071430042386\n",
      "Loss:0.00328587437979877\n",
      "Loss:0.0028278157114982605\n",
      "Loss:0.0023758665192872286\n",
      "Loss:0.001948375254869461\n",
      "Loss:0.0018804117571562529\n",
      "Loss:0.00507909432053566\n",
      "Loss:0.007552578113973141\n",
      "Loss:0.00507909432053566\n",
      "Loss:0.007552578113973141\n",
      "Loss:0.00507909432053566\n",
      "Loss:0.007552578113973141\n",
      "Loss:0.00507909432053566\n",
      "Loss:0.007552578113973141\n",
      "Loss:0.00507909432053566\n",
      "Loss:0.007552578113973141\n",
      "Loss:0.00507909432053566\n",
      "Loss:0.007552578113973141\n",
      "Loss:0.00507909432053566\n",
      "Loss:0.007552578113973141\n",
      "Loss:0.00507909432053566\n",
      "Loss:0.007552578113973141\n",
      "Loss:0.00507909432053566\n",
      "Loss:0.007552578113973141\n",
      "Loss:0.00507909432053566\n",
      "Loss:0.007552578113973141\n",
      "Loss:0.00507909432053566\n",
      "Loss:0.007552578113973141\n",
      "Loss:0.00507909432053566\n",
      "Loss:0.007552578113973141\n",
      "Loss:0.00507909432053566\n",
      "Loss:0.007552578113973141\n"
     ]
    }
   ],
   "source": [
    "# An epoch is one loop through the data\n",
    "epochs = 50\n",
    "\n",
    "epochs_values = []\n",
    "train_loss_values = []\n",
    "test_loss_values = []\n",
    "\n",
    "for i in range(epochs):\n",
    "    model_0.train() # train mode in pytorch set all parameter that require gradients to require gradient\n",
    "     # 1 forward pass\n",
    "    y_preds = model_0(X_train)\n",
    "        \n",
    "    # 2 calculate the loss \n",
    "    train_loss = loss_fn(y_preds,y_train)\n",
    "    print(f'Loss:{train_loss}')\n",
    "\n",
    "    # 3 optimize zero grad\n",
    "    optimizer.zero_grad()\n",
    "\n",
    "    # 4 perform backpropogation on the loss with respect to the parameters of the model \n",
    "    train_loss.backward()\n",
    "\n",
    "    # 5 step the optimizer(perform gradient descent )\n",
    "    optimizer.step()\n",
    "    ### Testing \n",
    "    model_0.eval() # turn off gradient tracking"
   ]
  },
  {
   "cell_type": "code",
   "execution_count": 61,
   "id": "99df7280-6382-4018-8842-b14a41b2fc8c",
   "metadata": {},
   "outputs": [],
   "source": [
    "with torch.inference_mode(): \n",
    "    test_pred = model_0(X_test)\n",
    "    test_loss = loss_fn(test_pred,y_test)"
   ]
  },
  {
   "cell_type": "code",
   "execution_count": 63,
   "id": "56a99cad-ef5c-4d10-804e-0fb488a5872b",
   "metadata": {},
   "outputs": [
    {
     "name": "stdout",
     "output_type": "stream",
     "text": [
      "epoch:0 | train_loss:0.007552578113973141 | test_lost:0.0053551048040390015\n",
      "epoch:10 | train_loss:0.007552578113973141 | test_lost:0.0053551048040390015\n",
      "epoch:20 | train_loss:0.007552578113973141 | test_lost:0.0053551048040390015\n",
      "epoch:30 | train_loss:0.007552578113973141 | test_lost:0.0053551048040390015\n",
      "epoch:40 | train_loss:0.007552578113973141 | test_lost:0.0053551048040390015\n"
     ]
    }
   ],
   "source": [
    "for i in range(epochs):\n",
    "        if i % 10 == 0:\n",
    "            print(f'epoch:{i} | train_loss:{train_loss} | test_lost:{test_loss}')"
   ]
  },
  {
   "cell_type": "code",
   "execution_count": 68,
   "id": "2f4bcedc-22e0-4037-adaa-309db5b0cd50",
   "metadata": {},
   "outputs": [
    {
     "data": {
      "text/plain": [
       "<bound method Module.state_dict of LinearRegressionModel()>"
      ]
     },
     "execution_count": 68,
     "metadata": {},
     "output_type": "execute_result"
    }
   ],
   "source": [
    "model_0.state_dict"
   ]
  },
  {
   "cell_type": "code",
   "execution_count": 64,
   "id": "8848b4bf-d152-4b9b-b899-ba070a752860",
   "metadata": {},
   "outputs": [
    {
     "data": {
      "image/png": "[encoded data removed]",
      "text/plain": [
       "<Figure size 432x288 with 1 Axes>"
      ]
     },
     "metadata": {
      "needs_background": "light"
     },
     "output_type": "display_data"
    }
   ],
   "source": [
    "plot_predictions(predictions=test_pred)"
   ]
  }
 ],
 "metadata": {
  "kernelspec": {
   "display_name": "Python 3 (ipykernel)",
   "language": "python",
   "name": "python3"
  },
  "language_info": {
   "codemirror_mode": {
    "name": "ipython",
    "version": 3
   },
   "file_extension": ".py",
   "mimetype": "text/x-python",
   "name": "python",
   "nbconvert_exporter": "python",
   "pygments_lexer": "ipython3",
   "version": "3.10.1"
  }
 },
 "nbformat": 4,
 "nbformat_minor": 5
}
